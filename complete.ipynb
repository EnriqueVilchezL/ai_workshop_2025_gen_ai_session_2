{
 "cells": [
  {
   "cell_type": "markdown",
   "id": "93e46bab",
   "metadata": {},
   "source": [
    "# Construyamos un App con Gen AI ✨\n",
    "\n",
    "En este taller vamos a aprender a utilizar grandes modelos de lenguaje de manera local, y a construir una pequeña aplicación encima de ese servicio."
   ]
  },
  {
   "cell_type": "code",
   "execution_count": null,
   "id": "e1bdd9b1",
   "metadata": {
    "vscode": {
     "languageId": "plaintext"
    }
   },
   "outputs": [],
   "source": [
    "## 0. Instalar Ollama"
   ]
  },
  {
   "cell_type": "code",
   "execution_count": null,
   "id": "08d87df4",
   "metadata": {
    "vscode": {
     "languageId": "plaintext"
    }
   },
   "outputs": [],
   "source": []
  },
  {
   "cell_type": "markdown",
   "id": "b87c4c01",
   "metadata": {},
   "source": []
  }
 ],
 "metadata": {
  "language_info": {
   "name": "python"
  }
 },
 "nbformat": 4,
 "nbformat_minor": 5
}
